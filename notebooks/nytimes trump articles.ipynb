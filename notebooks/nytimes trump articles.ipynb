{
 "cells": [
  {
   "cell_type": "code",
   "execution_count": 1,
   "id": "e089a0c1",
   "metadata": {},
   "outputs": [],
   "source": [
    "with open('../nytimes-apikey.txt') as f:\n",
    "     apikey = f.read()\n",
    "        \n",
    "nytroot = \"https://api.nytimes.com/svc\"\n",
    "def nyurl(url):\n",
    "    return f\"{nytroot}{url}&api-key={apikey}\""
   ]
  },
  {
   "cell_type": "code",
   "execution_count": 6,
   "id": "acf18b2f",
   "metadata": {},
   "outputs": [],
   "source": [
    "import math\n",
    "import requests\n",
    "\n",
    "NYTIMES_PAGINATION = 10\n",
    "\n",
    "def get_all_pages(url):\n",
    "    res = requests.get(url)\n",
    "    results = res.json()[\"response\"]\n",
    "\n",
    "    hits = results[\"meta\"][\"hits\"]\n",
    "    print(f\"{bcolors.HEADER}{hits} hits{bcolors.ENDC}\")\n",
    "    num_pages = math.floor(results[\"meta\"][\"hits\"] / NYTIMES_PAGINATION)\n",
    "\n",
    "    yield results\n",
    "    \n",
    "    for page in range(1, num_pages):\n",
    "        next_res = requests.get(f\"{url}&page={str(page)}\")\n",
    "        next_results = next_res.json()[\"response\"]\n",
    "        yield next_results\n"
   ]
  },
  {
   "cell_type": "code",
   "execution_count": 24,
   "id": "a299ebec",
   "metadata": {},
   "outputs": [],
   "source": [
    "from datetime import datetime\n",
    "\n",
    "class bcolors:\n",
    "    HEADER = '\\033[95m'\n",
    "    OKBLUE = '\\033[94m'\n",
    "    OKCYAN = '\\033[96m'\n",
    "    OKGREEN = '\\033[92m'\n",
    "    WARNING = '\\033[93m'\n",
    "    FAIL = '\\033[91m'\n",
    "    ENDC = '\\033[0m'\n",
    "    BOLD = '\\033[1m'\n",
    "    UNDERLINE = '\\033[4m'\n",
    "\n",
    "def log_article(headline, date):\n",
    "    date = datetime.strptime(doc[\"pub_date\"], '%Y-%m-%dT%H:%M:%S+%f')\n",
    "    pretty_date = date.strftime(\"%b %d, %Y\") \n",
    "    print(f\"{bcolors.BOLD}{pretty_date}{bcolors.ENDC}\")\n",
    "    print(headline)\n",
    "    print(\" \")"
   ]
  },
  {
   "cell_type": "code",
   "execution_count": 25,
   "id": "ebb027f2",
   "metadata": {
    "scrolled": true
   },
   "outputs": [
    {
     "name": "stdout",
     "output_type": "stream",
     "text": [
      "\u001b[95m62 hits\u001b[0m\n",
      "\u001b[1mJan 20, 2017\u001b[0m\n",
      "Issues of Riches Trip Up Steven Mnuchin and Other Nominees\n",
      " \n",
      "\u001b[1mJan 20, 2017\u001b[0m\n",
      "Intercepted Russian Communications Part of Inquiry Into Trump Associates\n",
      " \n",
      "\u001b[1mJan 21, 2017\u001b[0m\n",
      "With False Claims, Trump Attacks Media on Turnout and Intelligence Rift\n",
      " \n",
      "\u001b[1mJan 24, 2017\u001b[0m\n",
      "A Supreme Court Pick Is Promised. A Political Brawl Is Certain.\n",
      " \n",
      "\u001b[1mJan 25, 2017\u001b[0m\n",
      "Trump to Order Mexican Border Wall and Curtail Immigration\n",
      " \n",
      "\u001b[1mJan 25, 2017\u001b[0m\n",
      "Trump Orders Mexican Border Wall to Be Built and Plans to Block Syrian Refugees\n",
      " \n",
      "\u001b[1mJan 26, 2017\u001b[0m\n",
      "Nearly 8 Decades Later, an Apology for a Lynching in Georgia\n",
      " \n",
      "\u001b[1mJan 27, 2017\u001b[0m\n",
      "Dubious Vote-Fraud Claim Gets the Trump Seal of Approval\n",
      " \n",
      "\u001b[1mJan 28, 2017\u001b[0m\n",
      "Trump’s First Week: Misfires, Crossed Wires, and a Satisfied Smile\n",
      " \n",
      "\u001b[1mJan 28, 2017\u001b[0m\n",
      "Trump Bars Refugees and Citizens of 7 Muslim Countries\n",
      " \n",
      "\u001b[1mJan 28, 2017\u001b[0m\n",
      "Judge Blocks Trump Order on Refugees Amid Chaos and Outcry Worldwide\n",
      " \n",
      "\u001b[1mJan 28, 2017\u001b[0m\n",
      "Trump’s Immigration Ban Draws Deep Anger and Muted Praise\n",
      " \n",
      "\u001b[1mJan 29, 2017\u001b[0m\n",
      "Travelers Stranded and Protests Swell Over Trump Order\n",
      " \n",
      "\u001b[1mJan 30, 2017\u001b[0m\n",
      "How Trump’s Rush to Enact an Immigration Ban Unleashed Global Chaos\n",
      " \n",
      "\u001b[1mJan 30, 2017\u001b[0m\n",
      "Bannon Is Given Security Role Usually Held for Generals\n",
      " \n",
      "\u001b[1mJan 30, 2017\u001b[0m\n",
      "Trump Fires Acting Attorney General Who Defied Him\n",
      " \n"
     ]
    }
   ],
   "source": [
    "import time\n",
    "\n",
    "begin_date = \"20170120\"\n",
    "end_date = \"20170130\"\n",
    "\n",
    "query = f\"q=person:(\\\"Trump\\\")&fq=news_desk:(\\\"National\\\") AND type_of_material:news&begin_date={begin_date}&end_date={end_date}&sort=oldest\"\n",
    "req_url = nyurl(f\"/search/v2/articlesearch.json?{query}\")\n",
    "# print(req_url)\n",
    "\n",
    "\n",
    "for res in get_all_pages(req_url):\n",
    "    time.sleep(6) # nytimes rate limiting\n",
    "    for doc in res[\"docs\"]:\n",
    "        print_page = doc.get(\"print_page\", \"-\")\n",
    "\n",
    "        # wish there was a way to add this to nytimes query, limit to front page stories\n",
    "        if (print_page == \"1\"):\n",
    "            log_article(doc[\"headline\"][\"main\"], doc[\"pub_date\"])"
   ]
  },
  {
   "cell_type": "code",
   "execution_count": null,
   "id": "e6652c11",
   "metadata": {},
   "outputs": [],
   "source": []
  }
 ],
 "metadata": {
  "kernelspec": {
   "display_name": "Python 3 (ipykernel)",
   "language": "python",
   "name": "python3"
  },
  "language_info": {
   "codemirror_mode": {
    "name": "ipython",
    "version": 3
   },
   "file_extension": ".py",
   "mimetype": "text/x-python",
   "name": "python",
   "nbconvert_exporter": "python",
   "pygments_lexer": "ipython3",
   "version": "3.9.1"
  }
 },
 "nbformat": 4,
 "nbformat_minor": 5
}
